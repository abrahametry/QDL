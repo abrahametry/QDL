{
  "nbformat": 4,
  "nbformat_minor": 0,
  "metadata": {
    "colab": {
      "name": "EMLo.ipynb",
      "version": "0.3.2",
      "provenance": []
    },
    "kernelspec": {
      "name": "python3",
      "display_name": "Python 3"
    }
  },
  "cells": [
    {
      "metadata": {
        "id": "ee3Q6S05Cbrr",
        "colab_type": "code",
        "outputId": "d5c8eb53-ffee-49a6-829a-4014089311bc",
        "colab": {
          "base_uri": "https://localhost:8080/",
          "height": 35
        }
      },
      "cell_type": "code",
      "source": [
        "import pandas as pd\n",
        "import numpy as np\n",
        "import spacy\n",
        "from tqdm import tqdm\n",
        "import re\n",
        "import time\n",
        "import pickle\n",
        "pd.set_option('display.max_colwidth', 200)\n",
        "\n",
        "# read data\n",
        "train = pd.read_csv(\"https://datahack-prod.s3.amazonaws.com/train_file/train_2kmZucJ.csv\")\n",
        "test = pd.read_csv(\"https://datahack-prod.s3.amazonaws.com/test_file/test_oJQbWVk.csv\")\n",
        "\n",
        "train.shape, test.shape\n"
      ],
      "execution_count": 8,
      "outputs": [
        {
          "output_type": "execute_result",
          "data": {
            "text/plain": [
              "((7920, 3), (1953, 2))"
            ]
          },
          "metadata": {
            "tags": []
          },
          "execution_count": 8
        }
      ]
    },
    {
      "metadata": {
        "id": "kjbMjFy-FJBT",
        "colab_type": "code",
        "outputId": "43737dcf-7b7a-4d75-e5b1-62092fbf7172",
        "colab": {
          "base_uri": "https://localhost:8080/",
          "height": 72
        }
      },
      "cell_type": "code",
      "source": [
        "train['label'].value_counts(normalize = True)"
      ],
      "execution_count": 9,
      "outputs": [
        {
          "output_type": "execute_result",
          "data": {
            "text/plain": [
              "0    0.744192\n",
              "1    0.255808\n",
              "Name: label, dtype: float64"
            ]
          },
          "metadata": {
            "tags": []
          },
          "execution_count": 9
        }
      ]
    },
    {
      "metadata": {
        "id": "NkYgmmAoFOAS",
        "colab_type": "code",
        "outputId": "ef97d885-ca74-4b1f-837e-c7829f24a90a",
        "colab": {
          "base_uri": "https://localhost:8080/",
          "height": 206
        }
      },
      "cell_type": "code",
      "source": [
        "train.head()"
      ],
      "execution_count": 0,
      "outputs": [
        {
          "output_type": "execute_result",
          "data": {
            "text/html": [
              "<div>\n",
              "<style scoped>\n",
              "    .dataframe tbody tr th:only-of-type {\n",
              "        vertical-align: middle;\n",
              "    }\n",
              "\n",
              "    .dataframe tbody tr th {\n",
              "        vertical-align: top;\n",
              "    }\n",
              "\n",
              "    .dataframe thead th {\n",
              "        text-align: right;\n",
              "    }\n",
              "</style>\n",
              "<table border=\"1\" class=\"dataframe\">\n",
              "  <thead>\n",
              "    <tr style=\"text-align: right;\">\n",
              "      <th></th>\n",
              "      <th>id</th>\n",
              "      <th>label</th>\n",
              "      <th>tweet</th>\n",
              "    </tr>\n",
              "  </thead>\n",
              "  <tbody>\n",
              "    <tr>\n",
              "      <th>0</th>\n",
              "      <td>1</td>\n",
              "      <td>0</td>\n",
              "      <td>#fingerprint #Pregnancy Test https://goo.gl/h1MfQV #android #apps #beautiful #cute #health #igers #iphoneonly #iphonesia #iphone</td>\n",
              "    </tr>\n",
              "    <tr>\n",
              "      <th>1</th>\n",
              "      <td>2</td>\n",
              "      <td>0</td>\n",
              "      <td>Finally a transparant silicon case ^^ Thanks to my uncle :) #yay #Sony #Xperia #S #sonyexperias… http://instagram.com/p/YGEt5JC6JM/</td>\n",
              "    </tr>\n",
              "    <tr>\n",
              "      <th>2</th>\n",
              "      <td>3</td>\n",
              "      <td>0</td>\n",
              "      <td>We love this! Would you go? #talk #makememories #unplug #relax #iphone #smartphone #wifi #connect... http://fb.me/6N3LsUpCu</td>\n",
              "    </tr>\n",
              "    <tr>\n",
              "      <th>3</th>\n",
              "      <td>4</td>\n",
              "      <td>0</td>\n",
              "      <td>I'm wired I know I'm George I was made that way ;) #iphone #cute #daventry #home http://instagr.am/p/Li_5_ujS4k/</td>\n",
              "    </tr>\n",
              "    <tr>\n",
              "      <th>4</th>\n",
              "      <td>5</td>\n",
              "      <td>1</td>\n",
              "      <td>What amazing service! Apple won't even talk to me about a question I have unless I pay them $19.95 for their stupid support!</td>\n",
              "    </tr>\n",
              "  </tbody>\n",
              "</table>\n",
              "</div>"
            ],
            "text/plain": [
              "   id  label  \\\n",
              "0   1      0   \n",
              "1   2      0   \n",
              "2   3      0   \n",
              "3   4      0   \n",
              "4   5      1   \n",
              "\n",
              "                                                                                                                                 tweet  \n",
              "0     #fingerprint #Pregnancy Test https://goo.gl/h1MfQV #android #apps #beautiful #cute #health #igers #iphoneonly #iphonesia #iphone  \n",
              "1  Finally a transparant silicon case ^^ Thanks to my uncle :) #yay #Sony #Xperia #S #sonyexperias… http://instagram.com/p/YGEt5JC6JM/  \n",
              "2          We love this! Would you go? #talk #makememories #unplug #relax #iphone #smartphone #wifi #connect... http://fb.me/6N3LsUpCu  \n",
              "3                     I'm wired I know I'm George I was made that way ;) #iphone #cute #daventry #home http://instagr.am/p/Li_5_ujS4k/  \n",
              "4         What amazing service! Apple won't even talk to me about a question I have unless I pay them $19.95 for their stupid support!  "
            ]
          },
          "metadata": {
            "tags": []
          },
          "execution_count": 6
        }
      ]
    },
    {
      "metadata": {
        "id": "hq4tsT26FS1y",
        "colab_type": "code",
        "colab": {}
      },
      "cell_type": "code",
      "source": [
        "# remove URL's from train and test\n",
        "train['clean_tweet'] = train['tweet'].apply(lambda x: re.sub(r'http\\S+', '', x))\n",
        "\n",
        "test['clean_tweet'] = test['tweet'].apply(lambda x: re.sub(r'http\\S+', '', x))\n",
        "# remove punctuation marks\n",
        "punctuation = '!\"#$%&()*+-/:;<=>?@[\\\\]^_`{|}~'\n",
        "\n",
        "train['clean_tweet'] = train['clean_tweet'].apply(lambda x: ''.join(ch for ch in x if ch not in set(punctuation)))\n",
        "test['clean_tweet'] = test['clean_tweet'].apply(lambda x: ''.join(ch for ch in x if ch not in set(punctuation)))\n",
        "\n",
        "# convert text to lowercase\n",
        "train['clean_tweet'] = train['clean_tweet'].str.lower()\n",
        "test['clean_tweet'] = test['clean_tweet'].str.lower()\n",
        "\n",
        "# remove numbers\n",
        "train['clean_tweet'] = train['clean_tweet'].str.replace(\"[0-9]\", \" \")\n",
        "test['clean_tweet'] = test['clean_tweet'].str.replace(\"[0-9]\", \" \")\n",
        "\n",
        "# remove whitespaces\n",
        "train['clean_tweet'] = train['clean_tweet'].apply(lambda x:' '.join(x.split()))\n",
        "test['clean_tweet'] = test['clean_tweet'].apply(lambda x: ' '.join(x.split()))"
      ],
      "execution_count": 0,
      "outputs": []
    },
    {
      "metadata": {
        "id": "I3CGJYN4Fa2B",
        "colab_type": "code",
        "colab": {}
      },
      "cell_type": "code",
      "source": [
        "# import spaCy's language model\n",
        "nlp = spacy.load('en', disable=['parser', 'ner'])\n",
        "\n",
        "# function to lemmatize text\n",
        "def lemmatization(texts):\n",
        "    output = []\n",
        "    for i in texts:\n",
        "        s = [token.lemma_ for token in nlp(i)]\n",
        "        output.append(' '.join(s))\n",
        "    return output"
      ],
      "execution_count": 0,
      "outputs": []
    },
    {
      "metadata": {
        "id": "us09NWxjFh52",
        "colab_type": "code",
        "colab": {}
      },
      "cell_type": "code",
      "source": [
        "train['clean_tweet'] = lemmatization(train['clean_tweet'])\n",
        "test['clean_tweet'] = lemmatization(test['clean_tweet'])"
      ],
      "execution_count": 0,
      "outputs": []
    },
    {
      "metadata": {
        "id": "Ubh1LFDKFmy5",
        "colab_type": "code",
        "outputId": "d32fdb54-682e-49d9-eefe-bfb94b313cc7",
        "colab": {
          "base_uri": "https://localhost:8080/",
          "height": 554
        }
      },
      "cell_type": "code",
      "source": [
        "train.sample(10)"
      ],
      "execution_count": 0,
      "outputs": [
        {
          "output_type": "execute_result",
          "data": {
            "text/html": [
              "<div>\n",
              "<style scoped>\n",
              "    .dataframe tbody tr th:only-of-type {\n",
              "        vertical-align: middle;\n",
              "    }\n",
              "\n",
              "    .dataframe tbody tr th {\n",
              "        vertical-align: top;\n",
              "    }\n",
              "\n",
              "    .dataframe thead th {\n",
              "        text-align: right;\n",
              "    }\n",
              "</style>\n",
              "<table border=\"1\" class=\"dataframe\">\n",
              "  <thead>\n",
              "    <tr style=\"text-align: right;\">\n",
              "      <th></th>\n",
              "      <th>id</th>\n",
              "      <th>label</th>\n",
              "      <th>tweet</th>\n",
              "      <th>clean_tweet</th>\n",
              "    </tr>\n",
              "  </thead>\n",
              "  <tbody>\n",
              "    <tr>\n",
              "      <th>5387</th>\n",
              "      <td>5388</td>\n",
              "      <td>1</td>\n",
              "      <td>lock button on my phone broke trying to screen shot fitspo and workouts, ya don't know what ya got till its gone! iphone</td>\n",
              "      <td>lock button on my phone broke trying to screen shot fitspo and workouts, ya don't know what ya got till its gone iphone</td>\n",
              "    </tr>\n",
              "    <tr>\n",
              "      <th>4014</th>\n",
              "      <td>4015</td>\n",
              "      <td>0</td>\n",
              "      <td>Hey Guys! Look Apple iPhone X 64GB Silver Unlocked Smartphone http://zpr.io/6EdnM #money #today #life #amazon #retweet #twitter #birthday #sale #android #windows #nokia #samsung #iphone #phone #sm...</td>\n",
              "      <td>hey guys look apple iphone x gb silver unlocked smartphone money today life amazon retweet twitter birthday sale android windows nokia samsung iphone phone smartphone motorola offers bestprice jul...</td>\n",
              "    </tr>\n",
              "    <tr>\n",
              "      <th>6702</th>\n",
              "      <td>6703</td>\n",
              "      <td>0</td>\n",
              "      <td>Change the background image https://goo.gl/HECCAH #android #apps #beautiful #cute #BBB16 #igers #iphone #iphone #halamadride #FCB #h</td>\n",
              "      <td>change the background image android apps beautiful cute bbb igers iphone iphone halamadride fcb h</td>\n",
              "    </tr>\n",
              "    <tr>\n",
              "      <th>3234</th>\n",
              "      <td>3235</td>\n",
              "      <td>0</td>\n",
              "      <td>@sethflute @gentlemenhall #sailintothesun #didyouknow? #samsung #camera #commercial 2 million plus plays #awesome</td>\n",
              "      <td>sethflute gentlemenhall sailintothesun didyouknow samsung camera commercial million plus plays awesome</td>\n",
              "    </tr>\n",
              "    <tr>\n",
              "      <th>4197</th>\n",
              "      <td>4198</td>\n",
              "      <td>0</td>\n",
              "      <td>Sweet Love With Sweet App 360 #idol #girl #nowplaying quote #iphone #valentineapp 563 https://itunes.apple.com/us/app/love360/id809353957?mt=8 …</td>\n",
              "      <td>sweet love with sweet app idol girl nowplaying quote iphone valentineapp …</td>\n",
              "    </tr>\n",
              "    <tr>\n",
              "      <th>6360</th>\n",
              "      <td>6361</td>\n",
              "      <td>0</td>\n",
              "      <td>casper #lol #look #lotd #pink #aj #cap #iphone #selfie #igers #instalike #instalove #local… https://instagram.com/p/5LiGZTOlbq/</td>\n",
              "      <td>casper lol look lotd pink aj cap iphone selfie igers instalike instalove local…</td>\n",
              "    </tr>\n",
              "    <tr>\n",
              "      <th>7187</th>\n",
              "      <td>7188</td>\n",
              "      <td>1</td>\n",
              "      <td>Half and hour trying to reset and $&amp;@*# password only to be locked out</td>\n",
              "      <td>half and hour trying to reset and password only to be locked out</td>\n",
              "    </tr>\n",
              "    <tr>\n",
              "      <th>4405</th>\n",
              "      <td>4406</td>\n",
              "      <td>0</td>\n",
              "      <td>I beat a personal record today on the bike! #vsco #vscocam #greatoutdoors #beautiful #statenisland #nyc #ny #nj #iphonex #shotoniphone #sky #skyporn #nature #july #summer… https://www.instagram.co...</td>\n",
              "      <td>i beat a personal record today on the bike vsco vscocam greatoutdoors beautiful statenisland nyc ny nj iphonex shotoniphone sky skyporn nature july summer… …</td>\n",
              "    </tr>\n",
              "    <tr>\n",
              "      <th>4253</th>\n",
              "      <td>4254</td>\n",
              "      <td>1</td>\n",
              "      <td>Warning! iPhone bug causing trouble with numbers. Deleting, restoring etc. no update available. #apple #rightnow</td>\n",
              "      <td>warning iphone bug causing trouble with numbers. deleting, restoring etc. no update available. apple rightnow</td>\n",
              "    </tr>\n",
              "    <tr>\n",
              "      <th>226</th>\n",
              "      <td>227</td>\n",
              "      <td>0</td>\n",
              "      <td>I like iphone only because I get to play games lol I love 'angry birds' #iphone #gam http://www.linkati.com/q/index.php?i=666227</td>\n",
              "      <td>i like iphone only because i get to play games lol i love 'angry birds' iphone gam</td>\n",
              "    </tr>\n",
              "  </tbody>\n",
              "</table>\n",
              "</div>"
            ],
            "text/plain": [
              "        id  label  \\\n",
              "5387  5388      1   \n",
              "4014  4015      0   \n",
              "6702  6703      0   \n",
              "3234  3235      0   \n",
              "4197  4198      0   \n",
              "6360  6361      0   \n",
              "7187  7188      1   \n",
              "4405  4406      0   \n",
              "4253  4254      1   \n",
              "226    227      0   \n",
              "\n",
              "                                                                                                                                                                                                        tweet  \\\n",
              "5387                                                                                 lock button on my phone broke trying to screen shot fitspo and workouts, ya don't know what ya got till its gone! iphone   \n",
              "4014  Hey Guys! Look Apple iPhone X 64GB Silver Unlocked Smartphone http://zpr.io/6EdnM #money #today #life #amazon #retweet #twitter #birthday #sale #android #windows #nokia #samsung #iphone #phone #sm...   \n",
              "6702                                                                     Change the background image https://goo.gl/HECCAH #android #apps #beautiful #cute #BBB16 #igers #iphone #iphone #halamadride #FCB #h   \n",
              "3234                                                                                        @sethflute @gentlemenhall #sailintothesun #didyouknow? #samsung #camera #commercial 2 million plus plays #awesome   \n",
              "4197                                                         Sweet Love With Sweet App 360 #idol #girl #nowplaying quote #iphone #valentineapp 563 https://itunes.apple.com/us/app/love360/id809353957?mt=8 …   \n",
              "6360                                                                          casper #lol #look #lotd #pink #aj #cap #iphone #selfie #igers #instalike #instalove #local… https://instagram.com/p/5LiGZTOlbq/   \n",
              "7187                                                                                                                                   Half and hour trying to reset and $&@*# password only to be locked out   \n",
              "4405  I beat a personal record today on the bike! #vsco #vscocam #greatoutdoors #beautiful #statenisland #nyc #ny #nj #iphonex #shotoniphone #sky #skyporn #nature #july #summer… https://www.instagram.co...   \n",
              "4253                                                                                         Warning! iPhone bug causing trouble with numbers. Deleting, restoring etc. no update available. #apple #rightnow   \n",
              "226                                                                          I like iphone only because I get to play games lol I love 'angry birds' #iphone #gam http://www.linkati.com/q/index.php?i=666227   \n",
              "\n",
              "                                                                                                                                                                                                  clean_tweet  \n",
              "5387                                                                                  lock button on my phone broke trying to screen shot fitspo and workouts, ya don't know what ya got till its gone iphone  \n",
              "4014  hey guys look apple iphone x gb silver unlocked smartphone money today life amazon retweet twitter birthday sale android windows nokia samsung iphone phone smartphone motorola offers bestprice jul...  \n",
              "6702                                                                                                        change the background image android apps beautiful cute bbb igers iphone iphone halamadride fcb h  \n",
              "3234                                                                                                   sethflute gentlemenhall sailintothesun didyouknow samsung camera commercial million plus plays awesome  \n",
              "4197                                                                                                                               sweet love with sweet app idol girl nowplaying quote iphone valentineapp …  \n",
              "6360                                                                                                                          casper lol look lotd pink aj cap iphone selfie igers instalike instalove local…  \n",
              "7187                                                                                                                                         half and hour trying to reset and password only to be locked out  \n",
              "4405                                            i beat a personal record today on the bike vsco vscocam greatoutdoors beautiful statenisland nyc ny nj iphonex shotoniphone sky skyporn nature july summer… …  \n",
              "4253                                                                                            warning iphone bug causing trouble with numbers. deleting, restoring etc. no update available. apple rightnow  \n",
              "226                                                                                                                        i like iphone only because i get to play games lol i love 'angry birds' iphone gam  "
            ]
          },
          "metadata": {
            "tags": []
          },
          "execution_count": 12
        }
      ]
    },
    {
      "metadata": {
        "id": "jgoDcz-AFruq",
        "colab_type": "code",
        "outputId": "1d747179-fc6e-4e6e-ec52-1863d693bfe6",
        "colab": {
          "base_uri": "https://localhost:8080/",
          "height": 128
        }
      },
      "cell_type": "code",
      "source": [
        "import tensorflow_hub as hub\n",
        "import tensorflow as tf\n",
        "\n",
        "elmo = hub.Module(\"https://tfhub.dev/google/elmo/2\", trainable=True)"
      ],
      "execution_count": 17,
      "outputs": [
        {
          "output_type": "stream",
          "text": [
            "WARNING: Logging before flag parsing goes to stderr.\n",
            "W0317 06:19:31.892063 140035101722496 __init__.py:56] Some hub symbols are not available because TensorFlow version is less than 1.14\n",
            "W0317 06:19:37.342249 140035101722496 deprecation.py:323] From /usr/local/lib/python3.6/dist-packages/tensorflow/python/ops/control_flow_ops.py:3632: colocate_with (from tensorflow.python.framework.ops) is deprecated and will be removed in a future version.\n",
            "Instructions for updating:\n",
            "Colocations handled automatically by placer.\n"
          ],
          "name": "stderr"
        }
      ]
    },
    {
      "metadata": {
        "id": "EISOcC-CF2YA",
        "colab_type": "code",
        "outputId": "80308814-ab0a-4766-adcd-fda6dfc9c610",
        "colab": {
          "base_uri": "https://localhost:8080/",
          "height": 35
        }
      },
      "cell_type": "code",
      "source": [
        "# just a random sentence\n",
        "x = [\"Roasted ants are a popular snack in Columbia\"]\n",
        "\n",
        "# Extract ELMo features \n",
        "embeddings = elmo(x, signature=\"default\", as_dict=True)[\"elmo\"]\n",
        "\n",
        "embeddings.shape"
      ],
      "execution_count": 18,
      "outputs": [
        {
          "output_type": "execute_result",
          "data": {
            "text/plain": [
              "TensorShape([Dimension(1), Dimension(8), Dimension(1024)])"
            ]
          },
          "metadata": {
            "tags": []
          },
          "execution_count": 18
        }
      ]
    },
    {
      "metadata": {
        "id": "MrAQoKfvG5jV",
        "colab_type": "code",
        "colab": {}
      },
      "cell_type": "code",
      "source": [
        "def elmo_vectors(x):\n",
        "  embeddings = elmo(x.tolist(), signature=\"default\", as_dict=True)[\"elmo\"]\n",
        "\n",
        "  with tf.Session() as sess:\n",
        "    sess.run(tf.global_variables_initializer())\n",
        "    sess.run(tf.tables_initializer())\n",
        "    # return average of ELMo features\n",
        "    return sess.run(tf.reduce_mean(embeddings,1))"
      ],
      "execution_count": 0,
      "outputs": []
    },
    {
      "metadata": {
        "id": "bVacGoIPHi4y",
        "colab_type": "code",
        "colab": {}
      },
      "cell_type": "code",
      "source": [
        "list_train = [train[i:i+100] for i in range(0,train.shape[0],100)]\n",
        "list_test = [test[i:i+100] for i in range(0,test.shape[0],100)]"
      ],
      "execution_count": 0,
      "outputs": []
    },
    {
      "metadata": {
        "id": "w5fn1Qy-HovT",
        "colab_type": "code",
        "colab": {}
      },
      "cell_type": "code",
      "source": [
        "# Extract ELMo embeddings\n",
        "elmo_train = [elmo_vectors(x['clean_tweet']) for x in list_train]\n",
        "elmo_test = [elmo_vectors(x['clean_tweet']) for x in list_test]"
      ],
      "execution_count": 0,
      "outputs": []
    },
    {
      "metadata": {
        "id": "zfc3fXHXBXaT",
        "colab_type": "code",
        "colab": {}
      },
      "cell_type": "code",
      "source": [
        "elmo_train_new = np.concatenate(elmo_train, axis = 0)\n",
        "elmo_test_new = np.concatenate(elmo_test, axis = 0)"
      ],
      "execution_count": 0,
      "outputs": []
    },
    {
      "metadata": {
        "id": "xZ1wKuekmpGk",
        "colab_type": "code",
        "colab": {}
      },
      "cell_type": "code",
      "source": [
        "# save elmo_train_new\n",
        "pickle_out = open(\"elmo_train_03032019.pickle\",\"wb\")\n",
        "pickle.dump(elmo_train_new, pickle_out)\n",
        "pickle_out.close()\n",
        "\n",
        "# save elmo_test_new\n",
        "pickle_out = open(\"elmo_test_03032019.pickle\",\"wb\")\n",
        "pickle.dump(elmo_test_new, pickle_out)\n",
        "pickle_out.close()"
      ],
      "execution_count": 0,
      "outputs": []
    },
    {
      "metadata": {
        "id": "APJ7K-J-mwkP",
        "colab_type": "code",
        "colab": {}
      },
      "cell_type": "code",
      "source": [
        "# load elmo_train_new\n",
        "pickle_in = open(\"elmo_train_03032019.pickle\", \"rb\")\n",
        "elmo_train_new = pickle.load(pickle_in)\n",
        "\n",
        "# load elmo_train_new\n",
        "pickle_in = open(\"elmo_test_03032019.pickle\", \"rb\")\n",
        "elmo_test_new = pickle.load(pickle_in)"
      ],
      "execution_count": 0,
      "outputs": []
    },
    {
      "metadata": {
        "id": "tZD9gvlim34H",
        "colab_type": "code",
        "colab": {}
      },
      "cell_type": "code",
      "source": [
        "from sklearn.model_selection import train_test_split\n",
        "xtrain, xvalid, ytrain, yvalid = train_test_split(elmo_train_new,train['label'],random_state=42,test_size=0.2)\n",
        "                                                   \n",
        "                                                  "
      ],
      "execution_count": 0,
      "outputs": []
    },
    {
      "metadata": {
        "id": "264htEf_qvML",
        "colab_type": "code",
        "outputId": "bee33337-2c5d-46d1-ab7a-74cd1c4bb1f3",
        "colab": {
          "base_uri": "https://localhost:8080/",
          "height": 146
        }
      },
      "cell_type": "code",
      "source": [
        "from sklearn.linear_model import LogisticRegression\n",
        "from sklearn.metrics import f1_score\n",
        "\n",
        "lreg = LogisticRegression()\n",
        "lreg.fit(xtrain, ytrain)"
      ],
      "execution_count": 26,
      "outputs": [
        {
          "output_type": "stream",
          "text": [
            "/usr/local/lib/python3.6/dist-packages/sklearn/linear_model/logistic.py:433: FutureWarning: Default solver will be changed to 'lbfgs' in 0.22. Specify a solver to silence this warning.\n",
            "  FutureWarning)\n"
          ],
          "name": "stderr"
        },
        {
          "output_type": "execute_result",
          "data": {
            "text/plain": [
              "LogisticRegression(C=1.0, class_weight=None, dual=False, fit_intercept=True,\n",
              "          intercept_scaling=1, max_iter=100, multi_class='warn',\n",
              "          n_jobs=None, penalty='l2', random_state=None, solver='warn',\n",
              "          tol=0.0001, verbose=0, warm_start=False)"
            ]
          },
          "metadata": {
            "tags": []
          },
          "execution_count": 26
        }
      ]
    },
    {
      "metadata": {
        "id": "o9LX4q9JkqK4",
        "colab_type": "code",
        "colab": {}
      },
      "cell_type": "code",
      "source": [
        "preds_valid = lreg.predict(xvalid)"
      ],
      "execution_count": 0,
      "outputs": []
    },
    {
      "metadata": {
        "id": "TEMndYWVk6os",
        "colab_type": "code",
        "colab": {
          "base_uri": "https://localhost:8080/",
          "height": 35
        },
        "outputId": "3abf0166-c7ac-449a-ffc2-61d9cfd7fd07"
      },
      "cell_type": "code",
      "source": [
        "f1_score(yvalid, preds_valid)"
      ],
      "execution_count": 28,
      "outputs": [
        {
          "output_type": "execute_result",
          "data": {
            "text/plain": [
              "0.7727272727272728"
            ]
          },
          "metadata": {
            "tags": []
          },
          "execution_count": 28
        }
      ]
    },
    {
      "metadata": {
        "id": "yzfuHVKUlCJR",
        "colab_type": "code",
        "colab": {}
      },
      "cell_type": "code",
      "source": [
        "# make predictions on test set\n",
        "preds_test = lreg.predict(elmo_test_new)"
      ],
      "execution_count": 0,
      "outputs": []
    },
    {
      "metadata": {
        "id": "t5_aaBdqlHuY",
        "colab_type": "code",
        "colab": {}
      },
      "cell_type": "code",
      "source": [
        "# prepare submission dataframe\n",
        "sub = pd.DataFrame({'id':test['id'], 'label':preds_test})\n",
        "\n",
        "# write predictions to a CSV file\n",
        "sub.to_csv(\"sub_lreg.csv\", index=False)"
      ],
      "execution_count": 0,
      "outputs": []
    }
  ]
}